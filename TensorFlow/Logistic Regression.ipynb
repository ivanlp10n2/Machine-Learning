{
 "cells": [
  {
   "cell_type": "code",
   "execution_count": 6,
   "metadata": {
    "collapsed": true
   },
   "outputs": [],
   "source": [
    "import tensorflow as tf\n",
    "import os"
   ]
  },
  {
   "cell_type": "code",
   "execution_count": 12,
   "metadata": {
    "collapsed": false
   },
   "outputs": [],
   "source": [
    "with tf.name_scope(\"Train\"):\n",
    "\n",
    "#########################PREPARE DATA##################################################\n",
    "    b = tf.Variable(0., name=\"bias\")\n",
    "    w = tf.Variable(tf.zeros([5,1]), name=\"weights\")\n",
    "        \n",
    "    def read_csv(batch_size, file_name, record_defaults):\n",
    "        filename_queue = tf.train.string_input_producer([os.path.dirname(\"__file__\") + \"/\" + file_name])\n",
    "        \n",
    "        reader = tf.TextLineReader(skip_header_lines=1)\n",
    "        key, value = reader.read(filename_queue)\n",
    "        \n",
    "        #Creating a tensor from type string in a tuple of tensor columns with a specified\n",
    "        #defaults, which also sets the data type for each column\n",
    "        decoded = tf.decode_csv(value, record_defaults=record_defaults)\n",
    "        \n",
    "        #batch actually reads the file and loads \"batch_size\" rows in a single tensor\n",
    "        return tf.train.shuffle_batch(decoded, batch_size=batch_size,\n",
    "                                     capacity = batch_size * 50,\n",
    "                                     min_after_dequeue=batch_size)\n",
    "    \n",
    "        \n",
    "        \n",
    "    def inputs():\n",
    "        #Get values from csv(coma separated values)\n",
    "        pasenger_id, survived, pclass, name, sex, age, sibsp, parch, ticket, fare, cabin, embarked = \\\n",
    "            read_csv(100, \"train.csv\", [[0.0], [0.0], [0], [\"\"], [\"\"], [0.0], [0.0], [0.0], [\"\"], [0.0], [\"\"], [\"\"]])\n",
    "    \n",
    "        #Convert it to categorical data\n",
    "        is_first_class = tf.to_float(tf.equal(pclass, [1]))\n",
    "        is_second_class = tf.to_float(tf.equal(pclass, [2]))\n",
    "        is_third_class = tf.to_float(tf.equal(pclass, [3]))\n",
    "        \n",
    "        gender = tf.to_float(tf.equal(sex, [\"female\"]))\n",
    "        \n",
    "        #Finally we pack all the fdeatures in a single matrix\n",
    "        #We then transpose to have a matrix with one example per row and one feature per column. \n",
    "        features = tf.transpose(tf.pack([is_first_class, is_second_class, is_third_class, gender, age]))\n",
    "        survived = tf.reshape(survived, [100,1])\n",
    "        \n",
    "        return features, survived\n",
    "        \n",
    "###############################GET ON MATHS#################################################\n",
    "    def combine_inputs(x):\n",
    "        return tf.matmul(x, w) + b\n",
    "    \n",
    "    def inference (x):\n",
    "        ## do maths with x definning the kind of problem you want to resolve\n",
    "        ## Logistic regression = Log( linear_regression )\n",
    "        return tf.sigmoid(combine_inputs(x))\n",
    "    \n",
    "    def loss (x, y):\n",
    "        ##loss = sum(y*log(y_predict) + (1 - y ) * log( 1 - y_predict))\n",
    "        y_predicted = tf.reduce_mean(tf.nn.sigmoid_cross_entropy_with_logits(combine_inputs(x), y))\n",
    "        return y_predicted\n",
    "    \n",
    "    def train (total_loss):\n",
    "        #Gradient Descent\n",
    "        learning_rate = 0.01\n",
    "        return tf.train.GradientDescentOptimizer(learning_rate).minimize(total_loss) \n",
    "        \n",
    "    #def evaluate (sess, x, y):\n",
    "        #After training, evaluate results\n",
    "        #predicted = tf.cast(inference(x) > 0.5, tf.float32)\n",
    "        #print sess.run(tf.reduce_mean(tf.cast(tf.equal(predicted, y), tf.float32)))"
   ]
  },
  {
   "cell_type": "code",
   "execution_count": 14,
   "metadata": {
    "collapsed": false
   },
   "outputs": [
    {
     "ename": "OutOfRangeError",
     "evalue": "RandomShuffleQueue '_16_Placeholders_5/shuffle_batch/random_shuffle_queue' is closed and has insufficient elements (requested 100, current size 0)\n\t [[Node: Placeholders_5/shuffle_batch = QueueDequeueMany[_class=[\"loc:@Placeholders_5/shuffle_batch/random_shuffle_queue\"], component_types=[DT_FLOAT, DT_FLOAT, DT_INT32, DT_STRING, DT_STRING, DT_FLOAT, DT_FLOAT, DT_FLOAT, DT_STRING, DT_FLOAT, DT_STRING, DT_STRING], timeout_ms=-1, _device=\"/job:localhost/replica:0/task:0/cpu:0\"](Placeholders_5/shuffle_batch/random_shuffle_queue, Placeholders_5/shuffle_batch/n)]]\n\nCaused by op u'Placeholders_5/shuffle_batch', defined at:\n  File \"/home/empanada/anaconda/anaconda2/lib/python2.7/runpy.py\", line 174, in _run_module_as_main\n    \"__main__\", fname, loader, pkg_name)\n  File \"/home/empanada/anaconda/anaconda2/lib/python2.7/runpy.py\", line 72, in _run_code\n    exec code in run_globals\n  File \"/home/empanada/anaconda/anaconda2/lib/python2.7/site-packages/ipykernel/__main__.py\", line 3, in <module>\n    app.launch_new_instance()\n  File \"/home/empanada/anaconda/anaconda2/lib/python2.7/site-packages/traitlets/config/application.py\", line 653, in launch_instance\n    app.start()\n  File \"/home/empanada/anaconda/anaconda2/lib/python2.7/site-packages/ipykernel/kernelapp.py\", line 474, in start\n    ioloop.IOLoop.instance().start()\n  File \"/home/empanada/anaconda/anaconda2/lib/python2.7/site-packages/zmq/eventloop/ioloop.py\", line 162, in start\n    super(ZMQIOLoop, self).start()\n  File \"/home/empanada/anaconda/anaconda2/lib/python2.7/site-packages/tornado/ioloop.py\", line 887, in start\n    handler_func(fd_obj, events)\n  File \"/home/empanada/anaconda/anaconda2/lib/python2.7/site-packages/tornado/stack_context.py\", line 275, in null_wrapper\n    return fn(*args, **kwargs)\n  File \"/home/empanada/anaconda/anaconda2/lib/python2.7/site-packages/zmq/eventloop/zmqstream.py\", line 440, in _handle_events\n    self._handle_recv()\n  File \"/home/empanada/anaconda/anaconda2/lib/python2.7/site-packages/zmq/eventloop/zmqstream.py\", line 472, in _handle_recv\n    self._run_callback(callback, msg)\n  File \"/home/empanada/anaconda/anaconda2/lib/python2.7/site-packages/zmq/eventloop/zmqstream.py\", line 414, in _run_callback\n    callback(*args, **kwargs)\n  File \"/home/empanada/anaconda/anaconda2/lib/python2.7/site-packages/tornado/stack_context.py\", line 275, in null_wrapper\n    return fn(*args, **kwargs)\n  File \"/home/empanada/anaconda/anaconda2/lib/python2.7/site-packages/ipykernel/kernelbase.py\", line 276, in dispatcher\n    return self.dispatch_shell(stream, msg)\n  File \"/home/empanada/anaconda/anaconda2/lib/python2.7/site-packages/ipykernel/kernelbase.py\", line 228, in dispatch_shell\n    handler(stream, idents, msg)\n  File \"/home/empanada/anaconda/anaconda2/lib/python2.7/site-packages/ipykernel/kernelbase.py\", line 390, in execute_request\n    user_expressions, allow_stdin)\n  File \"/home/empanada/anaconda/anaconda2/lib/python2.7/site-packages/ipykernel/ipkernel.py\", line 196, in do_execute\n    res = shell.run_cell(code, store_history=store_history, silent=silent)\n  File \"/home/empanada/anaconda/anaconda2/lib/python2.7/site-packages/ipykernel/zmqshell.py\", line 501, in run_cell\n    return super(ZMQInteractiveShell, self).run_cell(*args, **kwargs)\n  File \"/home/empanada/anaconda/anaconda2/lib/python2.7/site-packages/IPython/core/interactiveshell.py\", line 2717, in run_cell\n    interactivity=interactivity, compiler=compiler, result=result)\n  File \"/home/empanada/anaconda/anaconda2/lib/python2.7/site-packages/IPython/core/interactiveshell.py\", line 2821, in run_ast_nodes\n    if self.run_code(code, result):\n  File \"/home/empanada/anaconda/anaconda2/lib/python2.7/site-packages/IPython/core/interactiveshell.py\", line 2881, in run_code\n    exec(code_obj, self.user_global_ns, self.user_ns)\n  File \"<ipython-input-14-c64449279277>\", line 6, in <module>\n    x, y = inputs()\n  File \"<ipython-input-12-9907f4ab0786>\", line 26, in inputs\n    pasenger_id, survived, pclass, name, sex, age, sibsp, parch, ticket, fare, cabin, embarked =             read_csv(100, \"train.csv\", [[0.0], [0.0], [0], [\"\"], [\"\"], [0.0], [0.0], [0.0], [\"\"], [0.0], [\"\"], [\"\"]])\n  File \"<ipython-input-12-9907f4ab0786>\", line 20, in read_csv\n    min_after_dequeue=batch_size)\n  File \"/home/empanada/anaconda/anaconda2/lib/python2.7/site-packages/tensorflow/python/training/input.py\", line 819, in shuffle_batch\n    dequeued = queue.dequeue_many(batch_size, name=name)\n  File \"/home/empanada/anaconda/anaconda2/lib/python2.7/site-packages/tensorflow/python/ops/data_flow_ops.py\", line 458, in dequeue_many\n    self._queue_ref, n=n, component_types=self._dtypes, name=name)\n  File \"/home/empanada/anaconda/anaconda2/lib/python2.7/site-packages/tensorflow/python/ops/gen_data_flow_ops.py\", line 905, in _queue_dequeue_many\n    timeout_ms=timeout_ms, name=name)\n  File \"/home/empanada/anaconda/anaconda2/lib/python2.7/site-packages/tensorflow/python/framework/op_def_library.py\", line 749, in apply_op\n    op_def=op_def)\n  File \"/home/empanada/anaconda/anaconda2/lib/python2.7/site-packages/tensorflow/python/framework/ops.py\", line 2380, in create_op\n    original_op=self._default_original_op, op_def=op_def)\n  File \"/home/empanada/anaconda/anaconda2/lib/python2.7/site-packages/tensorflow/python/framework/ops.py\", line 1298, in __init__\n    self._traceback = _extract_stack()\n\nOutOfRangeError (see above for traceback): RandomShuffleQueue '_16_Placeholders_5/shuffle_batch/random_shuffle_queue' is closed and has insufficient elements (requested 100, current size 0)\n\t [[Node: Placeholders_5/shuffle_batch = QueueDequeueMany[_class=[\"loc:@Placeholders_5/shuffle_batch/random_shuffle_queue\"], component_types=[DT_FLOAT, DT_FLOAT, DT_INT32, DT_STRING, DT_STRING, DT_FLOAT, DT_FLOAT, DT_FLOAT, DT_STRING, DT_FLOAT, DT_STRING, DT_STRING], timeout_ms=-1, _device=\"/job:localhost/replica:0/task:0/cpu:0\"](Placeholders_5/shuffle_batch/random_shuffle_queue, Placeholders_5/shuffle_batch/n)]]\n",
     "output_type": "error",
     "traceback": [
      "\u001b[0;31m---------------------------------------------------------------------------\u001b[0m",
      "\u001b[0;31mOutOfRangeError\u001b[0m                           Traceback (most recent call last)",
      "\u001b[0;32m<ipython-input-14-c64449279277>\u001b[0m in \u001b[0;36m<module>\u001b[0;34m()\u001b[0m\n\u001b[1;32m     15\u001b[0m \u001b[0;34m\u001b[0m\u001b[0m\n\u001b[1;32m     16\u001b[0m     \u001b[0;32mfor\u001b[0m \u001b[0mi\u001b[0m \u001b[0;32min\u001b[0m \u001b[0mxrange\u001b[0m\u001b[0;34m(\u001b[0m\u001b[0mtrain_cicle\u001b[0m\u001b[0;34m)\u001b[0m\u001b[0;34m:\u001b[0m\u001b[0;34m\u001b[0m\u001b[0m\n\u001b[0;32m---> 17\u001b[0;31m         \u001b[0msess\u001b[0m\u001b[0;34m.\u001b[0m\u001b[0mrun\u001b[0m\u001b[0;34m(\u001b[0m\u001b[0mtrain_operation\u001b[0m\u001b[0;34m)\u001b[0m\u001b[0;34m\u001b[0m\u001b[0m\n\u001b[0m\u001b[1;32m     18\u001b[0m \u001b[0;34m\u001b[0m\u001b[0m\n\u001b[1;32m     19\u001b[0m         \u001b[0;32mif\u001b[0m\u001b[0;34m(\u001b[0m\u001b[0mi\u001b[0m \u001b[0;34m%\u001b[0m \u001b[0;36m100\u001b[0m \u001b[0;34m==\u001b[0m \u001b[0;36m0\u001b[0m\u001b[0;34m)\u001b[0m\u001b[0;34m:\u001b[0m\u001b[0;34m\u001b[0m\u001b[0m\n",
      "\u001b[0;32m/home/empanada/anaconda/anaconda2/lib/python2.7/site-packages/tensorflow/python/client/session.pyc\u001b[0m in \u001b[0;36mrun\u001b[0;34m(self, fetches, feed_dict, options, run_metadata)\u001b[0m\n\u001b[1;32m    715\u001b[0m     \u001b[0;32mtry\u001b[0m\u001b[0;34m:\u001b[0m\u001b[0;34m\u001b[0m\u001b[0m\n\u001b[1;32m    716\u001b[0m       result = self._run(None, fetches, feed_dict, options_ptr,\n\u001b[0;32m--> 717\u001b[0;31m                          run_metadata_ptr)\n\u001b[0m\u001b[1;32m    718\u001b[0m       \u001b[0;32mif\u001b[0m \u001b[0mrun_metadata\u001b[0m\u001b[0;34m:\u001b[0m\u001b[0;34m\u001b[0m\u001b[0m\n\u001b[1;32m    719\u001b[0m         \u001b[0mproto_data\u001b[0m \u001b[0;34m=\u001b[0m \u001b[0mtf_session\u001b[0m\u001b[0;34m.\u001b[0m\u001b[0mTF_GetBuffer\u001b[0m\u001b[0;34m(\u001b[0m\u001b[0mrun_metadata_ptr\u001b[0m\u001b[0;34m)\u001b[0m\u001b[0;34m\u001b[0m\u001b[0m\n",
      "\u001b[0;32m/home/empanada/anaconda/anaconda2/lib/python2.7/site-packages/tensorflow/python/client/session.pyc\u001b[0m in \u001b[0;36m_run\u001b[0;34m(self, handle, fetches, feed_dict, options, run_metadata)\u001b[0m\n\u001b[1;32m    913\u001b[0m     \u001b[0;32mif\u001b[0m \u001b[0mfinal_fetches\u001b[0m \u001b[0;32mor\u001b[0m \u001b[0mfinal_targets\u001b[0m\u001b[0;34m:\u001b[0m\u001b[0;34m\u001b[0m\u001b[0m\n\u001b[1;32m    914\u001b[0m       results = self._do_run(handle, final_targets, final_fetches,\n\u001b[0;32m--> 915\u001b[0;31m                              feed_dict_string, options, run_metadata)\n\u001b[0m\u001b[1;32m    916\u001b[0m     \u001b[0;32melse\u001b[0m\u001b[0;34m:\u001b[0m\u001b[0;34m\u001b[0m\u001b[0m\n\u001b[1;32m    917\u001b[0m       \u001b[0mresults\u001b[0m \u001b[0;34m=\u001b[0m \u001b[0;34m[\u001b[0m\u001b[0;34m]\u001b[0m\u001b[0;34m\u001b[0m\u001b[0m\n",
      "\u001b[0;32m/home/empanada/anaconda/anaconda2/lib/python2.7/site-packages/tensorflow/python/client/session.pyc\u001b[0m in \u001b[0;36m_do_run\u001b[0;34m(self, handle, target_list, fetch_list, feed_dict, options, run_metadata)\u001b[0m\n\u001b[1;32m    963\u001b[0m     \u001b[0;32mif\u001b[0m \u001b[0mhandle\u001b[0m \u001b[0;32mis\u001b[0m \u001b[0mNone\u001b[0m\u001b[0;34m:\u001b[0m\u001b[0;34m\u001b[0m\u001b[0m\n\u001b[1;32m    964\u001b[0m       return self._do_call(_run_fn, self._session, feed_dict, fetch_list,\n\u001b[0;32m--> 965\u001b[0;31m                            target_list, options, run_metadata)\n\u001b[0m\u001b[1;32m    966\u001b[0m     \u001b[0;32melse\u001b[0m\u001b[0;34m:\u001b[0m\u001b[0;34m\u001b[0m\u001b[0m\n\u001b[1;32m    967\u001b[0m       return self._do_call(_prun_fn, self._session, handle, feed_dict,\n",
      "\u001b[0;32m/home/empanada/anaconda/anaconda2/lib/python2.7/site-packages/tensorflow/python/client/session.pyc\u001b[0m in \u001b[0;36m_do_call\u001b[0;34m(self, fn, *args)\u001b[0m\n\u001b[1;32m    983\u001b[0m         \u001b[0;32mexcept\u001b[0m \u001b[0mKeyError\u001b[0m\u001b[0;34m:\u001b[0m\u001b[0;34m\u001b[0m\u001b[0m\n\u001b[1;32m    984\u001b[0m           \u001b[0;32mpass\u001b[0m\u001b[0;34m\u001b[0m\u001b[0m\n\u001b[0;32m--> 985\u001b[0;31m       \u001b[0;32mraise\u001b[0m \u001b[0mtype\u001b[0m\u001b[0;34m(\u001b[0m\u001b[0me\u001b[0m\u001b[0;34m)\u001b[0m\u001b[0;34m(\u001b[0m\u001b[0mnode_def\u001b[0m\u001b[0;34m,\u001b[0m \u001b[0mop\u001b[0m\u001b[0;34m,\u001b[0m \u001b[0mmessage\u001b[0m\u001b[0;34m)\u001b[0m\u001b[0;34m\u001b[0m\u001b[0m\n\u001b[0m\u001b[1;32m    986\u001b[0m \u001b[0;34m\u001b[0m\u001b[0m\n\u001b[1;32m    987\u001b[0m   \u001b[0;32mdef\u001b[0m \u001b[0m_extend_graph\u001b[0m\u001b[0;34m(\u001b[0m\u001b[0mself\u001b[0m\u001b[0;34m)\u001b[0m\u001b[0;34m:\u001b[0m\u001b[0;34m\u001b[0m\u001b[0m\n",
      "\u001b[0;31mOutOfRangeError\u001b[0m: RandomShuffleQueue '_16_Placeholders_5/shuffle_batch/random_shuffle_queue' is closed and has insufficient elements (requested 100, current size 0)\n\t [[Node: Placeholders_5/shuffle_batch = QueueDequeueMany[_class=[\"loc:@Placeholders_5/shuffle_batch/random_shuffle_queue\"], component_types=[DT_FLOAT, DT_FLOAT, DT_INT32, DT_STRING, DT_STRING, DT_FLOAT, DT_FLOAT, DT_FLOAT, DT_STRING, DT_FLOAT, DT_STRING, DT_STRING], timeout_ms=-1, _device=\"/job:localhost/replica:0/task:0/cpu:0\"](Placeholders_5/shuffle_batch/random_shuffle_queue, Placeholders_5/shuffle_batch/n)]]\n\nCaused by op u'Placeholders_5/shuffle_batch', defined at:\n  File \"/home/empanada/anaconda/anaconda2/lib/python2.7/runpy.py\", line 174, in _run_module_as_main\n    \"__main__\", fname, loader, pkg_name)\n  File \"/home/empanada/anaconda/anaconda2/lib/python2.7/runpy.py\", line 72, in _run_code\n    exec code in run_globals\n  File \"/home/empanada/anaconda/anaconda2/lib/python2.7/site-packages/ipykernel/__main__.py\", line 3, in <module>\n    app.launch_new_instance()\n  File \"/home/empanada/anaconda/anaconda2/lib/python2.7/site-packages/traitlets/config/application.py\", line 653, in launch_instance\n    app.start()\n  File \"/home/empanada/anaconda/anaconda2/lib/python2.7/site-packages/ipykernel/kernelapp.py\", line 474, in start\n    ioloop.IOLoop.instance().start()\n  File \"/home/empanada/anaconda/anaconda2/lib/python2.7/site-packages/zmq/eventloop/ioloop.py\", line 162, in start\n    super(ZMQIOLoop, self).start()\n  File \"/home/empanada/anaconda/anaconda2/lib/python2.7/site-packages/tornado/ioloop.py\", line 887, in start\n    handler_func(fd_obj, events)\n  File \"/home/empanada/anaconda/anaconda2/lib/python2.7/site-packages/tornado/stack_context.py\", line 275, in null_wrapper\n    return fn(*args, **kwargs)\n  File \"/home/empanada/anaconda/anaconda2/lib/python2.7/site-packages/zmq/eventloop/zmqstream.py\", line 440, in _handle_events\n    self._handle_recv()\n  File \"/home/empanada/anaconda/anaconda2/lib/python2.7/site-packages/zmq/eventloop/zmqstream.py\", line 472, in _handle_recv\n    self._run_callback(callback, msg)\n  File \"/home/empanada/anaconda/anaconda2/lib/python2.7/site-packages/zmq/eventloop/zmqstream.py\", line 414, in _run_callback\n    callback(*args, **kwargs)\n  File \"/home/empanada/anaconda/anaconda2/lib/python2.7/site-packages/tornado/stack_context.py\", line 275, in null_wrapper\n    return fn(*args, **kwargs)\n  File \"/home/empanada/anaconda/anaconda2/lib/python2.7/site-packages/ipykernel/kernelbase.py\", line 276, in dispatcher\n    return self.dispatch_shell(stream, msg)\n  File \"/home/empanada/anaconda/anaconda2/lib/python2.7/site-packages/ipykernel/kernelbase.py\", line 228, in dispatch_shell\n    handler(stream, idents, msg)\n  File \"/home/empanada/anaconda/anaconda2/lib/python2.7/site-packages/ipykernel/kernelbase.py\", line 390, in execute_request\n    user_expressions, allow_stdin)\n  File \"/home/empanada/anaconda/anaconda2/lib/python2.7/site-packages/ipykernel/ipkernel.py\", line 196, in do_execute\n    res = shell.run_cell(code, store_history=store_history, silent=silent)\n  File \"/home/empanada/anaconda/anaconda2/lib/python2.7/site-packages/ipykernel/zmqshell.py\", line 501, in run_cell\n    return super(ZMQInteractiveShell, self).run_cell(*args, **kwargs)\n  File \"/home/empanada/anaconda/anaconda2/lib/python2.7/site-packages/IPython/core/interactiveshell.py\", line 2717, in run_cell\n    interactivity=interactivity, compiler=compiler, result=result)\n  File \"/home/empanada/anaconda/anaconda2/lib/python2.7/site-packages/IPython/core/interactiveshell.py\", line 2821, in run_ast_nodes\n    if self.run_code(code, result):\n  File \"/home/empanada/anaconda/anaconda2/lib/python2.7/site-packages/IPython/core/interactiveshell.py\", line 2881, in run_code\n    exec(code_obj, self.user_global_ns, self.user_ns)\n  File \"<ipython-input-14-c64449279277>\", line 6, in <module>\n    x, y = inputs()\n  File \"<ipython-input-12-9907f4ab0786>\", line 26, in inputs\n    pasenger_id, survived, pclass, name, sex, age, sibsp, parch, ticket, fare, cabin, embarked =             read_csv(100, \"train.csv\", [[0.0], [0.0], [0], [\"\"], [\"\"], [0.0], [0.0], [0.0], [\"\"], [0.0], [\"\"], [\"\"]])\n  File \"<ipython-input-12-9907f4ab0786>\", line 20, in read_csv\n    min_after_dequeue=batch_size)\n  File \"/home/empanada/anaconda/anaconda2/lib/python2.7/site-packages/tensorflow/python/training/input.py\", line 819, in shuffle_batch\n    dequeued = queue.dequeue_many(batch_size, name=name)\n  File \"/home/empanada/anaconda/anaconda2/lib/python2.7/site-packages/tensorflow/python/ops/data_flow_ops.py\", line 458, in dequeue_many\n    self._queue_ref, n=n, component_types=self._dtypes, name=name)\n  File \"/home/empanada/anaconda/anaconda2/lib/python2.7/site-packages/tensorflow/python/ops/gen_data_flow_ops.py\", line 905, in _queue_dequeue_many\n    timeout_ms=timeout_ms, name=name)\n  File \"/home/empanada/anaconda/anaconda2/lib/python2.7/site-packages/tensorflow/python/framework/op_def_library.py\", line 749, in apply_op\n    op_def=op_def)\n  File \"/home/empanada/anaconda/anaconda2/lib/python2.7/site-packages/tensorflow/python/framework/ops.py\", line 2380, in create_op\n    original_op=self._default_original_op, op_def=op_def)\n  File \"/home/empanada/anaconda/anaconda2/lib/python2.7/site-packages/tensorflow/python/framework/ops.py\", line 1298, in __init__\n    self._traceback = _extract_stack()\n\nOutOfRangeError (see above for traceback): RandomShuffleQueue '_16_Placeholders_5/shuffle_batch/random_shuffle_queue' is closed and has insufficient elements (requested 100, current size 0)\n\t [[Node: Placeholders_5/shuffle_batch = QueueDequeueMany[_class=[\"loc:@Placeholders_5/shuffle_batch/random_shuffle_queue\"], component_types=[DT_FLOAT, DT_FLOAT, DT_INT32, DT_STRING, DT_STRING, DT_FLOAT, DT_FLOAT, DT_FLOAT, DT_STRING, DT_FLOAT, DT_STRING, DT_STRING], timeout_ms=-1, _device=\"/job:localhost/replica:0/task:0/cpu:0\"](Placeholders_5/shuffle_batch/random_shuffle_queue, Placeholders_5/shuffle_batch/n)]]\n"
     ]
    }
   ],
   "source": [
    "with tf.Session() as sess:\n",
    "    \n",
    "    tf.initialize_all_variables().run()\n",
    "    \n",
    "    with tf.name_scope(\"Placeholders\"):\n",
    "        x, y = inputs()\n",
    "        \n",
    "    total_loss = loss(x,y)\n",
    "    train_operation = train(total_loss)\n",
    "     \n",
    "    coord = tf.train.Coordinator()\n",
    "    thread = tf.train.start_queue_runners(sess=sess, coord= coord)\n",
    "\n",
    "    train_cicle = 10000\n",
    "    \n",
    "    for i in xrange(train_cicle):\n",
    "        sess.run(train_operation)\n",
    "        \n",
    "        if(i % 100 == 0):\n",
    "            print (total_loss)\n",
    "            \n",
    "    ##evaluation\n",
    "    \n",
    "    coord.request_stop()\n",
    "    coord.join(thread)\n",
    "    \n",
    "    sess.close()\n",
    "    "
   ]
  },
  {
   "cell_type": "code",
   "execution_count": null,
   "metadata": {
    "collapsed": true
   },
   "outputs": [],
   "source": []
  }
 ],
 "metadata": {
  "anaconda-cloud": {},
  "kernelspec": {
   "display_name": "Python [conda root]",
   "language": "python",
   "name": "conda-root-py"
  },
  "language_info": {
   "codemirror_mode": {
    "name": "ipython",
    "version": 2
   },
   "file_extension": ".py",
   "mimetype": "text/x-python",
   "name": "python",
   "nbconvert_exporter": "python",
   "pygments_lexer": "ipython2",
   "version": "2.7.12"
  }
 },
 "nbformat": 4,
 "nbformat_minor": 1
}
