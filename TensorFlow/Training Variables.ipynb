{
 "cells": [
  {
   "cell_type": "code",
   "execution_count": 1,
   "metadata": {
    "collapsed": true
   },
   "outputs": [],
   "source": [
    "import tensorflow as tf"
   ]
  },
  {
   "cell_type": "code",
   "execution_count": 10,
   "metadata": {
    "collapsed": true
   },
   "outputs": [],
   "source": [
    "## A variable can, and it must, change its value while session is running\n",
    "\n",
    "var_a = tf.Variable(3, name=\"aVariable\" )"
   ]
  },
  {
   "cell_type": "code",
   "execution_count": 11,
   "metadata": {
    "collapsed": true
   },
   "outputs": [],
   "source": [
    "add = tf.add(var_a, 3)\n",
    "mul = tf.mul(var_a, 0)"
   ]
  },
  {
   "cell_type": "code",
   "execution_count": 47,
   "metadata": {
    "collapsed": false
   },
   "outputs": [],
   "source": [
    "#Initialize functions\n",
    "\n",
    "#Create 2x2 of 0's\n",
    "zero = tf.zeros([2,2])\n",
    "\n",
    "#Create vector of 6'd ones\n",
    "one = tf.ones([6])\n",
    "\n",
    "#Create 3x3x3 of random' numbers\n",
    "random = tf.random_uniform([2,2,2], minval=0, maxval=10)\n",
    "\n",
    "#This ranodm will have mean =0 and standard deviation = 2\n",
    "random = tf.random_normal([2,2,2], mean=0.0, stddev=2.0)\n",
    "\n",
    "# Default value of mean=0.0\n",
    "# Default value of stddev=1.0\n",
    "random_var = tf.Variable(tf.truncated_normal([2, 2]))\n",
    "random_1_var = tf.Variable(tf.truncated_normal([1,1]))\n",
    "\n",
    "var_1 = tf.Variable(3)\n",
    "\n",
    "\n",
    "#To change its value, you can use tf.assign()\n",
    "var_1 = var_1.assign(var_1 * 2)\n",
    "\n",
    "Variable = tf.Variable(0)"
   ]
  },
  {
   "cell_type": "code",
   "execution_count": 44,
   "metadata": {
    "collapsed": true
   },
   "outputs": [],
   "source": [
    "## You can instantiate with \"tf.initialize_all_variables()\" on run\n",
    "\n",
    "init = tf.initialize_all_variables()\n",
    "sess = tf.Session()\n",
    "\n",
    "sess.run(init)"
   ]
  },
  {
   "cell_type": "code",
   "execution_count": 45,
   "metadata": {
    "collapsed": false
   },
   "outputs": [
    {
     "data": {
      "text/plain": [
       "6"
      ]
     },
     "execution_count": 45,
     "metadata": {},
     "output_type": "execute_result"
    }
   ],
   "source": [
    "sess.run(var_1)\n"
   ]
  },
  {
   "cell_type": "code",
   "execution_count": null,
   "metadata": {
    "collapsed": false
   },
   "outputs": [],
   "source": []
  },
  {
   "cell_type": "code",
   "execution_count": null,
   "metadata": {
    "collapsed": true
   },
   "outputs": [],
   "source": []
  }
 ],
 "metadata": {
  "kernelspec": {
   "display_name": "Python [conda root]",
   "language": "python",
   "name": "conda-root-py"
  },
  "language_info": {
   "codemirror_mode": {
    "name": "ipython",
    "version": 2
   },
   "file_extension": ".py",
   "mimetype": "text/x-python",
   "name": "python",
   "nbconvert_exporter": "python",
   "pygments_lexer": "ipython2",
   "version": "2.7.12"
  }
 },
 "nbformat": 4,
 "nbformat_minor": 1
}
