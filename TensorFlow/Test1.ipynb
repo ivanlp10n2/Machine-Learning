{
 "cells": [
  {
   "cell_type": "code",
   "execution_count": 1,
   "metadata": {
    "collapsed": true
   },
   "outputs": [],
   "source": [
    "import tensorflow as tf\n",
    "import numpy as np"
   ]
  },
  {
   "cell_type": "code",
   "execution_count": 43,
   "metadata": {
    "collapsed": false
   },
   "outputs": [
    {
     "name": "stdout",
     "output_type": "stream",
     "text": [
      "10\n",
      "(3, 'N\\xc2\\xb0 Index')\n"
     ]
    }
   ],
   "source": [
    "g1 = tf.Graph()\n",
    "\n",
    "with g1.as_default() as graph:\n",
    "\n",
    "    #Declare elements\n",
    "    with tf.name_scope(\"Variables\") as scope:\n",
    "        #var_1 = tf.Variable(tf.truncated_normal([2], stddev=1.0))\n",
    "        acumulative = tf.Variable(0, dtype=np.int32, trainable=False, name=\"Counter\")\n",
    "   \n",
    "    with tf.name_scope(\"Input\")as scope:\n",
    "        in_1 = tf.placeholder(tf.int32, shape=[None], name=\"placeholder_1\")\n",
    "        in_2 = tf.placeholder(tf.int32, shape=[None], name=\"placeholder_2\" )\n",
    "\n",
    "    #Initialize\n",
    "    init = tf.initialize_all_variables()\n",
    "\n",
    "    with tf.name_scope(\"Transformation\") as scope:\n",
    "        \n",
    "    \n",
    "    \n",
    "    #OP\n",
    "    with tf.name_scope(\"Feed\") as scope:\n",
    "        fidein = {in_1: np.array([2, 5], dtype=np.int32)}\n",
    "        #tf.reduce_sum(in_1, name=\"never_called\")\n",
    "\n",
    "    adp = tf.reduce_sum(in_1, name=\"Multiplicacion\")\n",
    "\n",
    "    adf = tf.reduce_mean(in_1, name=\"suma\")\n",
    "\n",
    "    output = tf.add(adp, adf, name=\"SumaFinal\")    \n",
    "\n",
    "    #Counter\n",
    "    with tf.name_scope(\"Update\") as scope:\n",
    "        #addsum = tf.assign_add(acumulative, 1)\n",
    "        def acumular(acumulative, cantidad) :\n",
    "            acumulative = tf.assign(acumulative, acumulative+cantidad)\n",
    "            return acumulative\n",
    "\n",
    "    #Training\n",
    "    with tf.Session() as sess:\n",
    "        sess.run(init)    #Cuando se corre INIT se RE-inicializan las variables\n",
    "        result = sess.run(output, feed_dict=fidein)\n",
    "        print(result)\n",
    "\n",
    "        index = sess.run(acumular(acumulative,tf.constant(3)))\n",
    "        print(index, \"N° Index\")\n",
    "        #sess.run(output, feed_dict=fidein)\n",
    "        #print(sess.run(acumulative))\n",
    "\n",
    "\n",
    "        #Graph\n",
    "        #writer = tf.train.SummaryWriter(\"./test_graph\", sess.graph)\n",
    "    \n",
    "\n",
    "writer.close()\n",
    "sess.close()\n",
    "#Update\n",
    "\n",
    "#with tf.name_scope(\"Update\") as scope:\n",
    "    \n",
    "#with tf.name_scope(\"Variables\") as scope:\n",
    "\n",
    "\n",
    "\n",
    "\n",
    "\n",
    "    \n",
    "    "
   ]
  },
  {
   "cell_type": "code",
   "execution_count": 3,
   "metadata": {
    "collapsed": true
   },
   "outputs": [],
   "source": []
  },
  {
   "cell_type": "code",
   "execution_count": null,
   "metadata": {
    "collapsed": false
   },
   "outputs": [],
   "source": []
  },
  {
   "cell_type": "code",
   "execution_count": null,
   "metadata": {
    "collapsed": true
   },
   "outputs": [],
   "source": []
  }
 ],
 "metadata": {
  "anaconda-cloud": {},
  "kernelspec": {
   "display_name": "Python [conda root]",
   "language": "python",
   "name": "conda-root-py"
  },
  "language_info": {
   "codemirror_mode": {
    "name": "ipython",
    "version": 2
   },
   "file_extension": ".py",
   "mimetype": "text/x-python",
   "name": "python",
   "nbconvert_exporter": "python",
   "pygments_lexer": "ipython2",
   "version": "2.7.12"
  }
 },
 "nbformat": 4,
 "nbformat_minor": 1
}
