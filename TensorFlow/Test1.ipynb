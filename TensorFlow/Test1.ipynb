{
 "cells": [
  {
   "cell_type": "code",
   "execution_count": 7,
   "metadata": {
    "collapsed": true
   },
   "outputs": [],
   "source": [
    "import tensorflow as tf\n",
    "import numpy as np"
   ]
  },
  {
   "cell_type": "code",
   "execution_count": 11,
   "metadata": {
    "collapsed": false
   },
   "outputs": [
    {
     "name": "stdout",
     "output_type": "stream",
     "text": [
      "Tensor(\"Output_5/SumaFinal:0\", shape=(), dtype=int32)\n"
     ]
    }
   ],
   "source": [
    "#Declare elements\n",
    "in_1 = tf.placeholder(tf.int32, shape=[None], name=\"placeholder\")\n",
    "acumulative = 0\n",
    "init = tf.initialize_all_variables()\n",
    "\n",
    "#Initialize\n",
    "fidein = {in_1: np.array([2, 4], dtype=np.int32)}\n",
    "\n",
    "#OP\n",
    "with tf.name_scope(\"Input\") as scope:\n",
    "    suma= tf.reduce_sum(in_1, name=\"suma\")\n",
    "\n",
    "with tf.name_scope(\"Multiplicacion\") as scope:\n",
    "    adp = tf.reduce_sum(in_1, name=\"mul\")\n",
    "\n",
    "with tf.name_scope(\"Suma\") as scope:\n",
    "    adf = tf.reduce_sum(in_1, name=\"suma2\")\n",
    "\n",
    "with tf.name_scope(\"Output\") as scope:\n",
    "    output = tf.add(adp, adf, name=\"SumaFinal\")    \n",
    "\n",
    "     \n",
    "#Training\n",
    "with tf.Session() as sess:\n",
    "    sess.run(init)\n",
    "    sess.run(adp, feed_dict=fidein)\n",
    "    #sess.run(output, feed_dict=fidein)\n",
    "    print(output)\n",
    "    #Graph\n",
    "    writer = tf.train.SummaryWriter(\"./test_graph\", sess.graph)\n",
    "\n"
   ]
  },
  {
   "cell_type": "code",
   "execution_count": null,
   "metadata": {
    "collapsed": true
   },
   "outputs": [],
   "source": []
  },
  {
   "cell_type": "code",
   "execution_count": 9,
   "metadata": {
    "collapsed": false
   },
   "outputs": [],
   "source": [
    "writer.close()"
   ]
  },
  {
   "cell_type": "code",
   "execution_count": null,
   "metadata": {
    "collapsed": true
   },
   "outputs": [],
   "source": []
  }
 ],
 "metadata": {
  "anaconda-cloud": {},
  "kernelspec": {
   "display_name": "Python [conda root]",
   "language": "python",
   "name": "conda-root-py"
  },
  "language_info": {
   "codemirror_mode": {
    "name": "ipython",
    "version": 2
   },
   "file_extension": ".py",
   "mimetype": "text/x-python",
   "name": "python",
   "nbconvert_exporter": "python",
   "pygments_lexer": "ipython2",
   "version": "2.7.12"
  }
 },
 "nbformat": 4,
 "nbformat_minor": 1
}
