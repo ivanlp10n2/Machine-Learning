{
 "cells": [
  {
   "cell_type": "code",
   "execution_count": 2,
   "metadata": {
    "collapsed": true
   },
   "outputs": [],
   "source": [
    "import tensorflow as tf\n",
    "import numpy as np"
   ]
  },
  {
   "cell_type": "code",
   "execution_count": 13,
   "metadata": {
    "collapsed": false
   },
   "outputs": [
    {
     "ename": "AttributeError",
     "evalue": "'module' object has no attribute 'run'",
     "output_type": "error",
     "traceback": [
      "\u001b[0;31m-------------------------------------------------------\u001b[0m",
      "\u001b[0;31mAttributeError\u001b[0m        Traceback (most recent call last)",
      "\u001b[0;32m<ipython-input-13-019036c08853>\u001b[0m in \u001b[0;36m<module>\u001b[0;34m()\u001b[0m\n\u001b[1;32m     69\u001b[0m \u001b[0;34m\u001b[0m\u001b[0m\n\u001b[1;32m     70\u001b[0m \u001b[0;34m\u001b[0m\u001b[0m\n\u001b[0;32m---> 71\u001b[0;31m     \u001b[0mrunningTrain\u001b[0m\u001b[0;34m(\u001b[0m\u001b[0;34m[\u001b[0m\u001b[0;36m2\u001b[0m\u001b[0;34m,\u001b[0m\u001b[0;36m3\u001b[0m\u001b[0;34m]\u001b[0m\u001b[0;34m)\u001b[0m\u001b[0;34m\u001b[0m\u001b[0m\n\u001b[0m\u001b[1;32m     72\u001b[0m \u001b[0;34m\u001b[0m\u001b[0m\n\u001b[1;32m     73\u001b[0m     \u001b[0mwriter\u001b[0m\u001b[0;34m.\u001b[0m\u001b[0mclose\u001b[0m\u001b[0;34m(\u001b[0m\u001b[0;34m)\u001b[0m\u001b[0;34m\u001b[0m\u001b[0m\n",
      "\u001b[0;32m<ipython-input-13-019036c08853>\u001b[0m in \u001b[0;36mrunningTrain\u001b[0;34m(tensor1)\u001b[0m\n\u001b[1;32m     64\u001b[0m             \u001b[0;31m#feeding_var = {in_1 : tensor1, in_2 : tensor2}\u001b[0m\u001b[0;34m\u001b[0m\u001b[0;34m\u001b[0m\u001b[0m\n\u001b[1;32m     65\u001b[0m             \u001b[0mfeeding_var\u001b[0m \u001b[0;34m=\u001b[0m \u001b[0;34m{\u001b[0m\u001b[0min_1\u001b[0m \u001b[0;34m:\u001b[0m \u001b[0mtensor1\u001b[0m\u001b[0;34m}\u001b[0m\u001b[0;34m\u001b[0m\u001b[0m\n\u001b[0;32m---> 66\u001b[0;31m             \u001b[0mresult\u001b[0m\u001b[0;34m,\u001b[0m \u001b[0macumulative\u001b[0m \u001b[0;34m=\u001b[0m \u001b[0mtf\u001b[0m\u001b[0;34m.\u001b[0m\u001b[0mrun\u001b[0m\u001b[0;34m(\u001b[0m\u001b[0;34m[\u001b[0m\u001b[0moutput\u001b[0m\u001b[0;34m,\u001b[0m \u001b[0madd_1\u001b[0m\u001b[0;34m]\u001b[0m\u001b[0;34m,\u001b[0m \u001b[0mfeed_dict\u001b[0m\u001b[0;34m=\u001b[0m \u001b[0mfeeding_var\u001b[0m\u001b[0;34m)\u001b[0m\u001b[0;34m\u001b[0m\u001b[0m\n\u001b[0m\u001b[1;32m     67\u001b[0m \u001b[0;34m\u001b[0m\u001b[0m\n\u001b[1;32m     68\u001b[0m \u001b[0;34m\u001b[0m\u001b[0m\n",
      "\u001b[0;31mAttributeError\u001b[0m: 'module' object has no attribute 'run'"
     ]
    }
   ],
   "source": [
    "g1 = tf.Graph()\n",
    "\n",
    "#def train (input1, input2)\n",
    "#    sess = tf.Session(graph=g1)\n",
    "#    sess.run()\n",
    "#    \n",
    "#    return acumulative\n",
    "\n",
    "#################################Plantilla##########################        \n",
    "\n",
    "\n",
    "with g1.as_default() as graph:\n",
    "\n",
    "    #Declare elements\n",
    "    with tf.name_scope(\"Variables\"):\n",
    "        result = tf.Variable(0) #Adding trainable=False will make it explicit set by hand\n",
    "        acumulative = tf.Variable(0, dtype=np.int32, trainable=False, name=\"Counter\")\n",
    "   \n",
    "\n",
    "    #It's a good practice to separate layers by name_scope\n",
    "    with tf.name_scope(\"Magic\"):\n",
    "        \n",
    "        with tf.name_scope(\"Input\"):\n",
    "            ##Buscar como pija hacer feed_dict con 2 placeholders\n",
    "            in_1 = tf.placeholder(tf.int32, shape=[None], name=\"placeholder_1\")\n",
    "            #in_2 = tf.placeholder(tf.int32, shape=[None], name=\"placeholder_2\")\n",
    "        #Local OPS\n",
    "        with tf.name_scope(\"Operations\"):\n",
    "            #adp = tf.add(in_1, in_2, name=\"Suma\")\n",
    "            #adf = tf.mul(in_1, in_2, name=\"Prod\")\n",
    "            adp = tf.reduce_sum(in_1, name=\"suma\")\n",
    "            adf = tf.reduce_prod(in_1, name=\"prod\")\n",
    "            \n",
    "        with tf.name_scope(\"Output\"):\n",
    "            output = tf.add(adp, adf, name=\"SumaResultado\")    \n",
    "\n",
    "    #Counting\n",
    "    with tf.name_scope(\"Update\") as scope:\n",
    "        #addsum = acumulative.assign_add(acumulative, 1)\n",
    "        add_1 = acumulative.assign_add(1) # +1\n",
    "    \n",
    "    \n",
    "    #Global ops\n",
    "    init = tf.initialize_all_variables()\n",
    "    \n",
    "        \n",
    "#######################################RUN################################\n",
    "    \n",
    "    \n",
    "    #Training \n",
    "    with tf.Session(graph=g1) as sess:\n",
    "        \n",
    "        sess.run(init)    #Cuando se corre INIT se RE-inicializan las variables\n",
    "        #Graph\n",
    "        writer = tf.train.SummaryWriter(\"./test_graph\", sess.graph)\n",
    "    \n",
    "\n",
    "        ##Add Sumaries##\n",
    "        \n",
    "        \n",
    "        #Run function\n",
    "        def runningTrain(tensor1):\n",
    "           \n",
    "            #feeding_var = {in_1 : tensor1, in_2 : tensor2}\n",
    "            feeding_var = {in_1 : tensor1}\n",
    "            result, acumulative = tf.run([output, add_1], feed_dict= feeding_var)\n",
    "        \n",
    "        \n",
    "        \n",
    "    \n",
    "    runningTrain([2,3])\n",
    "    \n",
    "    writer.close()\n",
    "    sess.close()\n",
    "\n",
    "\n",
    "#Update\n",
    "\n",
    "#with tf.name_scope(\"Update\") as scope:\n",
    "    \n",
    "#with tf.name_scope(\"Variables\") as scope:\n",
    "\n",
    "\n",
    "\n",
    "\n",
    "\n",
    "    \n",
    "    "
   ]
  },
  {
   "cell_type": "code",
   "execution_count": 3,
   "metadata": {
    "collapsed": true
   },
   "outputs": [],
   "source": []
  },
  {
   "cell_type": "code",
   "execution_count": null,
   "metadata": {
    "collapsed": false
   },
   "outputs": [],
   "source": []
  },
  {
   "cell_type": "code",
   "execution_count": null,
   "metadata": {
    "collapsed": true
   },
   "outputs": [],
   "source": []
  }
 ],
 "metadata": {
  "anaconda-cloud": {},
  "kernelspec": {
   "display_name": "Python [conda root]",
   "language": "python",
   "name": "conda-root-py"
  },
  "language_info": {
   "codemirror_mode": {
    "name": "ipython",
    "version": 2
   },
   "file_extension": ".py",
   "mimetype": "text/x-python",
   "name": "python",
   "nbconvert_exporter": "python",
   "pygments_lexer": "ipython2",
   "version": "2.7.12"
  }
 },
 "nbformat": 4,
 "nbformat_minor": 1
}
