{
 "cells": [
  {
   "cell_type": "code",
   "execution_count": 1,
   "metadata": {
    "collapsed": true
   },
   "outputs": [],
   "source": [
    "import tensorflow as tf"
   ]
  },
  {
   "cell_type": "code",
   "execution_count": 17,
   "metadata": {
    "collapsed": false
   },
   "outputs": [],
   "source": [
    "with tf.name_scope(\"Train\"):\n",
    "    \n",
    "    w = tf.Variable(tf.zeros([2,1]), name =\"Weights\") #Are the parameters the model will learn from the training \n",
    "    b = tf.Variable(0., name=\"Bias\") #is also a learned parameter the constant of the linear function is also as the bias of the model.\n",
    "    \n",
    "    def inputs():\n",
    "        #Inputs. In this very case, and bc of learning purposes, they're hardcoded\n",
    "        weight_age = [[84,46], [73,20], [65, 52], [70,30], [76,57], [69,25], [63,28], [72,36], [79,57], [75,44]]\n",
    "        blood_fat = [354, 190, 405, 263, 451, 302, 288, 385, 402, 365]\n",
    "        return tf.to_float(weight_age), tf.to_float(blood_fat)\n",
    "    \n",
    "    def inference(X):\n",
    "        ## do maths with x definning the kind of problem you want to resolve\n",
    "        # Lineal Regression Y = xw^T + b, where x= x1,x2,x3,xn and w= w1,w2,w3,wn \n",
    "        return tf.matmul(X, w) + b\n",
    "        ## return a tensor result\n",
    "        \n",
    "    def loss(X, Y):\n",
    "        #loss = Sum(Y_predicted - Y)² [Tensor]\n",
    "        Y_predicted = inference(X)\n",
    "        return tf.reduce_sum(tf.squared_difference(Y, Y_predicted))\n",
    "\n",
    "    def train(total_loss):\n",
    "        #Adjust parameters. We'll use Gradient descent\n",
    "        learning_rate = 0.0000001\n",
    "                        \n",
    "        return tf.train.GradientDescentOptimizer(learning_rate).minimize(total_loss)\n",
    "\n",
    "with tf.name_scope(\"Evaluame_esta\"):\n",
    "    ### Evaluate with new data ### Model finished\n",
    "    def evaluate(sess, X, Y ):\n",
    "        #Final model. It will predict new value\n",
    "        print sess.run(inference([[80.,25.]]))\n",
    "        print sess.run(inference([[65., 25.]]))"
   ]
  },
  {
   "cell_type": "code",
   "execution_count": 23,
   "metadata": {
    "collapsed": false
   },
   "outputs": [
    {
     "name": "stdout",
     "output_type": "stream",
     "text": [
      "[[ 381.44219971]]\n",
      "[[ 308.45700073]]\n"
     ]
    }
   ],
   "source": [
    "with tf.Session() as sess:\n",
    "    tf.initialize_all_variables().run()\n",
    "    \n",
    "    X, Y = inputs()\n",
    "    \n",
    "    \n",
    "    total_loss = loss(X, Y) #It contains [inference]\n",
    "    train_operation= train(total_loss)\n",
    "    \n",
    "    coord= tf.train.Coordinator()\n",
    "    threads = tf.train.start_queue_runners(sess=sess, coord=coord)\n",
    "     \n",
    "    train_cicle= 100000\n",
    "    \n",
    "    for i in range(train_cicle):\n",
    "        #para que quiero conservar el resultado?\n",
    "        #temporary_result = tf.run(train_operation)}\n",
    "        sess.run([train_operation])\n",
    "        \n",
    "        #if i % 10 == 0:\n",
    "         #   print sess.run([total_loss])\n",
    "        \n",
    "    evaluate(sess, X, Y)\n",
    "    \n",
    "    coord.request_stop()\n",
    "    coord.join(threads)\n",
    "    sess.close()\n",
    "    "
   ]
  },
  {
   "cell_type": "code",
   "execution_count": null,
   "metadata": {
    "collapsed": true
   },
   "outputs": [],
   "source": []
  }
 ],
 "metadata": {
  "anaconda-cloud": {},
  "kernelspec": {
   "display_name": "Python [conda root]",
   "language": "python",
   "name": "conda-root-py"
  },
  "language_info": {
   "codemirror_mode": {
    "name": "ipython",
    "version": 2
   },
   "file_extension": ".py",
   "mimetype": "text/x-python",
   "name": "python",
   "nbconvert_exporter": "python",
   "pygments_lexer": "ipython2",
   "version": "2.7.12"
  }
 },
 "nbformat": 4,
 "nbformat_minor": 1
}
