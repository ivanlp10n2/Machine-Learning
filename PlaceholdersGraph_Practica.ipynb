{
 "cells": [
  {
   "cell_type": "code",
   "execution_count": 1,
   "metadata": {
    "collapsed": true
   },
   "outputs": [],
   "source": [
    "import tensorflow as tf \n",
    "import numpy as np\n"
   ]
  },
  {
   "cell_type": "code",
   "execution_count": 38,
   "metadata": {
    "collapsed": false
   },
   "outputs": [],
   "source": [
    "placeholder_a = tf.placeholder( tf.int32, shape=[2], name=\"a_placeholder\" ) #Shape means dimensions"
   ]
  },
  {
   "cell_type": "code",
   "execution_count": 39,
   "metadata": {
    "collapsed": false
   },
   "outputs": [],
   "source": [
    "\n",
    "op_a = tf.reduce_prod(placeholder_a, name=\"mult_placeholder_A\")\n",
    "op_b = tf.reduce_max(placeholder_a, name=\"max_placeholder_A\")\n",
    "op_c = tf.add(op_a, op_b, name=\"Suma_final_A\")\n",
    "\n",
    "\n",
    "#Initialize\n",
    "input_dic = {placeholder_a: np.array([6,3], dtype=int)} #Why np.array[shape?]\n",
    "sess = tf.Session()\n",
    "\n",
    "#Train\n",
    "sess.run(op_c, feed_dict=input_dic)\n",
    "\n",
    "#Log\n",
    "writter = tf.train.SummaryWriter(\"./my_graph\", g1)"
   ]
  },
  {
   "cell_type": "code",
   "execution_count": 40,
   "metadata": {
    "collapsed": true
   },
   "outputs": [],
   "source": [
    "sess.close()\n",
    "writter.close()"
   ]
  },
  {
   "cell_type": "code",
   "execution_count": 41,
   "metadata": {
    "collapsed": true
   },
   "outputs": [],
   "source": [
    "# We've made it :D "
   ]
  },
  {
   "cell_type": "code",
   "execution_count": null,
   "metadata": {
    "collapsed": true
   },
   "outputs": [],
   "source": []
  }
 ],
 "metadata": {
  "kernelspec": {
   "display_name": "Python [conda root]",
   "language": "python",
   "name": "conda-root-py"
  },
  "language_info": {
   "codemirror_mode": {
    "name": "ipython",
    "version": 2
   },
   "file_extension": ".py",
   "mimetype": "text/x-python",
   "name": "python",
   "nbconvert_exporter": "python",
   "pygments_lexer": "ipython2",
   "version": "2.7.12"
  }
 },
 "nbformat": 4,
 "nbformat_minor": 1
}
